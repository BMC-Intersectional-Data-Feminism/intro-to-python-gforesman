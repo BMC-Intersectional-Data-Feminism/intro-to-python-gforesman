{
 "cells": [
  {
   "cell_type": "markdown",
   "metadata": {},
   "source": []
  },
  {
   "cell_type": "code",
   "execution_count": 6,
   "metadata": {},
   "outputs": [
    {
     "data": {
      "text/plain": [
       "34"
      ]
     },
     "execution_count": 6,
     "metadata": {},
     "output_type": "execute_result"
    }
   ],
   "source": [
    "newInteger = 34\n",
    "newInteger\n"
   ]
  },
  {
   "cell_type": "code",
   "execution_count": 8,
   "metadata": {},
   "outputs": [
    {
     "data": {
      "text/plain": [
       "23"
      ]
     },
     "execution_count": 8,
     "metadata": {},
     "output_type": "execute_result"
    }
   ],
   "source": [
    "week1 = 23\n",
    "week1\n",
    "#integer is a whole, positive number"
   ]
  },
  {
   "cell_type": "code",
   "execution_count": 5,
   "metadata": {},
   "outputs": [
    {
     "data": {
      "text/plain": [
       "0.5"
      ]
     },
     "execution_count": 5,
     "metadata": {},
     "output_type": "execute_result"
    }
   ],
   "source": [
    "newnumberFloat = 4.24\n",
    "anotherNumber = 2/4\n",
    "\n",
    "anotherNumber\n",
    "\n",
    "#float numbers are used for fractions/decimals or negative numbers"
   ]
  },
  {
   "cell_type": "code",
   "execution_count": 7,
   "metadata": {},
   "outputs": [
    {
     "data": {
      "text/plain": [
       "'Hello World'"
      ]
     },
     "execution_count": 7,
     "metadata": {},
     "output_type": "execute_result"
    }
   ],
   "source": [
    "newVar_text = \"Hello World\"\n",
    "newVar_text\n",
    "#these are text strings\n",
    "\n",
    "#use hashtags for comments, might want to come up with a hashtag system for ease of use\n",
    "##for citing information add what you searched + the website\n"
   ]
  },
  {
   "cell_type": "code",
   "execution_count": 15,
   "metadata": {},
   "outputs": [
    {
     "name": "stdout",
     "output_type": "stream",
     "text": [
      "Hello World\n"
     ]
    },
    {
     "data": {
      "text/plain": [
       "21.76212121212121"
      ]
     },
     "execution_count": 15,
     "metadata": {},
     "output_type": "execute_result"
    }
   ],
   "source": [
    "classEx1 = 5*(4 + 10/11) - (5 + 13/15) + 2**(6*1/3)-(11/12)\n",
    "print(newVar_text)\n",
    "classEx1\n",
    "\n",
    "#make sure this goes in order of operations PEMDAS!!\n",
    "#print() allows you to print regardless of where it is in code"
   ]
  },
  {
   "cell_type": "code",
   "execution_count": 1,
   "metadata": {},
   "outputs": [
    {
     "data": {
      "text/plain": [
       "False"
      ]
     },
     "execution_count": 1,
     "metadata": {},
     "output_type": "execute_result"
    }
   ],
   "source": [
    "#comparisons\n",
    "\n",
    "1 > 5 \n",
    "\n",
    "#this is called a booleans - represent either true or false statements "
   ]
  },
  {
   "cell_type": "code",
   "execution_count": 3,
   "metadata": {},
   "outputs": [
    {
     "data": {
      "text/plain": [
       "True"
      ]
     },
     "execution_count": 3,
     "metadata": {},
     "output_type": "execute_result"
    }
   ],
   "source": [
    "5 > 1"
   ]
  },
  {
   "cell_type": "code",
   "execution_count": 8,
   "metadata": {},
   "outputs": [
    {
     "data": {
      "text/plain": [
       "False"
      ]
     },
     "execution_count": 8,
     "metadata": {},
     "output_type": "execute_result"
    }
   ],
   "source": [
    "name1 = \"emma\"\n",
    "name2 = \"bailey\"\n",
    "\n",
    "#alphabetical first - strings \n",
    "name1 > name2\n",
    "\n",
    "#to use length of name instead\n",
    "\n",
    "len(name1) > len(name2)\n"
   ]
  },
  {
   "cell_type": "code",
   "execution_count": 12,
   "metadata": {},
   "outputs": [
    {
     "name": "stdout",
     "output_type": "stream",
     "text": [
      "emma comes after bailey\n"
     ]
    }
   ],
   "source": [
    "#can make if then statements\n",
    "#if starts the if statement, elif is the \"or\" / rest of them that is not specified in comparison\n",
    "#else is a third category, ie there are no more if then statements\n",
    "if name1 == name2:\n",
    "    print(\"They are the same\")\n",
    "elif name1 < name2:\n",
    "    print(name1 + \" is shoter than \" + name2)\n",
    "else: \n",
    "    print(name1 + \" comes after \" + name2)"
   ]
  },
  {
   "cell_type": "code",
   "execution_count": 17,
   "metadata": {},
   "outputs": [
    {
     "name": "stdout",
     "output_type": "stream",
     "text": [
      "you are in your twenties!\n"
     ]
    }
   ],
   "source": [
    "#first set the age\n",
    "age = 25\n",
    "\n",
    "# and = both statements must be true ; or = only one statement must be true\n",
    "\n",
    "if(age < 30) and (age >= 20):\n",
    "    print(\"you are in your twenties!\")\n",
    "else:\n",
    "    print(\"You are not in your twenties\")"
   ]
  },
  {
   "cell_type": "code",
   "execution_count": 24,
   "metadata": {},
   "outputs": [
    {
     "name": "stdout",
     "output_type": "stream",
     "text": [
      "[1, 2, 'hello', 9.42, ['h', 'e', 'l', 'l', 'o']]\n"
     ]
    }
   ],
   "source": [
    "#automoations - also known as loops or iterations\n",
    "\n",
    "#lists can have any type of number \n",
    "#position matters \n",
    "newList = [1, 2, \"hello\", 9.42, [\"h\", \"e\", \"l\", \"l\", \"o\"]]\n",
    "print(newList)\n",
    "\n",
    "#position: 1 is at indice 0, 2 is indice 1, etc"
   ]
  },
  {
   "cell_type": "code",
   "execution_count": 25,
   "metadata": {},
   "outputs": [
    {
     "data": {
      "text/plain": [
       "'l'"
      ]
     },
     "execution_count": 25,
     "metadata": {},
     "output_type": "execute_result"
    }
   ],
   "source": [
    "#calling a specific indice\n",
    "\n",
    "newList[2]\n",
    "\n",
    "newList[4][2]"
   ]
  },
  {
   "cell_type": "code",
   "execution_count": 28,
   "metadata": {},
   "outputs": [
    {
     "name": "stdout",
     "output_type": "stream",
     "text": [
      "1\n",
      "<class 'int'>\n",
      "2\n",
      "<class 'int'>\n",
      "hello\n",
      "<class 'str'>\n",
      "9.42\n",
      "<class 'float'>\n",
      "['h', 'e', 'l', 'l', 'o']\n",
      "<class 'list'>\n"
     ]
    }
   ],
   "source": [
    "#for loop\n",
    "\n",
    "for item in newList:\n",
    "    print(item)\n",
    "    print(type(item))"
   ]
  }
 ],
 "metadata": {
  "kernelspec": {
   "display_name": "Python 3",
   "language": "python",
   "name": "python3"
  },
  "language_info": {
   "codemirror_mode": {
    "name": "ipython",
    "version": 3
   },
   "file_extension": ".py",
   "mimetype": "text/x-python",
   "name": "python",
   "nbconvert_exporter": "python",
   "pygments_lexer": "ipython3",
   "version": "3.13.1"
  }
 },
 "nbformat": 4,
 "nbformat_minor": 2
}
